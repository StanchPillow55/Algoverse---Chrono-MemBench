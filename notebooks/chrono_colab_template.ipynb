# Chrono-MemBench Training on Google Colab

This Colab notebook allows you to easily run the chrono-membench training script on the Google Colab environment using the enhanced training scripts.

## Setup

First, ensure that you have linked your GitHub account with Google Colab for easy access to your repositories.

```markdown
1. Open this notebook in Google Colab.
2. Connect your Colab session to your Google Drive.
3. Clone your GitHub repository where the chrono-membench scripts are stored.
```

## Clone Repository

```python
from google.colab import drive

drive.mount('/content/drive')

!git clone https://github.com/StanchPillow55/Algoverse---Chrono-MemBench.git
%cd Algoverse---Chrono-MemBench
```

## Fix Flash-Attention Issue

First, let's fix the Flash-Attention import issue that can occur in Google Colab.

```python
# Fix Flash-Attention import issues
!python fix_flash_attention.py
```

## Install Dependencies

Install the necessary dependencies. Since this uses the `requirements_training.txt`, it ensures a consistent environment.

```python
!pip install -r requirements_training.txt
!pip install wandb
```

## Configure WandB

Ensure you have your WandB API key ready.

```python
import wandb

wandb.login()
```

## Quick Chrono Training

Run a quick training job using the command line interface.

```python
!python src/chrono_cli.py quick-chrono gemma-2b --output_dir /content/chrono_output
```

Once training completes, models and outputs will be stored in `/content/chrono_output` by default. You can monitor progress and metrics with Weights & Biases (WandB) as configured.

## Full Training Configuration

You can also run full training using custom configuration:

```python
!python src/chrono_cli.py chrono-train --config configs/chrono_membench.yaml --output_dir /content/full_output
```

## Results Analysis

Analyze the training results:

```python
!python src/chrono_cli.py analyze-results --results_dir /content/chrono_output
```

Refer to `CHRONO_TRAINING_README.md` for more detailed information and instructions for custom experiments.

Happy Testing 🚀
